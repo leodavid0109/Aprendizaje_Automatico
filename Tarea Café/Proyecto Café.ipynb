{
 "cells": [
  {
   "cell_type": "markdown",
   "id": "7042a73b",
   "metadata": {},
   "source": [
    "# Trabajo Final - Tostadora \"Campesino\"\n",
    "\n",
    "## Autor: Leonard David Vivas Dallos\n",
    "\n",
    "## Objetivo\n",
    "Predecir la calidad del café basados en el Puntaje de Taza.\n",
    "\n",
    "## Indicaciones\n",
    "\n",
    "1. Analizar los datos y definir las variables que se utilizarán de input. Tenga cuidad que no se filtre información al momento de elegirlas.\n",
    "2. Definir el preprocesamiento que se debe hacer tanto para las X como para la Y.\n",
    "3. Entrenar al menos dos modelos de regresión.\n",
    "4. Utilizar un método de explicabilidad (LIME, SHAP, Feature Importance)\n",
    "5. Reportar resultados."
   ]
  }
 ],
 "metadata": {
  "language_info": {
   "name": "python"
  }
 },
 "nbformat": 4,
 "nbformat_minor": 5
}
