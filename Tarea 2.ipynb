{
 "cells": [
  {
   "cell_type": "markdown",
   "id": "4b15cda3",
   "metadata": {},
   "source": [
    "# Tarea 2\n",
    "\n",
    "## Autor: Leonard David Vivas Dallos\n",
    "\n",
    "## Indicaciones\n",
    "\n",
    "1. Construya la arquitectura de una red neuronal Autoencoder en PyTorch.\n",
    "2. Escriba el training loop teniendo en cuenta la técnica de Gradient Accumulation.\n",
    "\n",
    "Para dicha parte, se puede usar el mismo dataset para ambos ejercicios.\n",
    "\n",
    "3. El primer extra es adaptar esos puntos para funcionar con imágenes. Para esto investigar Vision Transformers, explicar la diferencias con redes convolucionales e implementar (puede usar las capas pre-existentes de PyTorch).\n",
    "4. El segundo extra es escoger un dataset tabular, y usar las técnicas aprendidas de clustering (k-means y DB-Scan), investigar y hacer una implementación desde cero de BFR, y comparar el resultado de los tres métodos. ¿Qué métrica usaría?"
   ]
  }
 ],
 "metadata": {
  "language_info": {
   "name": "python"
  }
 },
 "nbformat": 4,
 "nbformat_minor": 5
}
