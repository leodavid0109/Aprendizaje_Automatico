{
  "cells": [
    {
      "cell_type": "markdown",
      "metadata": {
        "id": "VyFnacNuc8J8"
      },
      "source": [
        "# Taller de búsqueda de hiperparámetros\n",
        "\n",
        "## Hecho por: Leonard David Vivas Dallos"
      ]
    },
    {
      "cell_type": "markdown",
      "metadata": {},
      "source": [
        "\n",
        "### Parte 1\n",
        "\n",
        "En este taller vamos a explorar la búsqueda de hiperparámetros de manera automática."
      ]
    },
    {
      "cell_type": "code",
      "execution_count": 1,
      "metadata": {
        "id": "WwuqBvU5c2UP"
      },
      "outputs": [],
      "source": [
        "import time\n",
        "import numpy as np\n",
        "\n",
        "from sklearn.datasets import load_breast_cancer\n",
        "from sklearn.metrics import f1_score, accuracy_score\n",
        "from sklearn.model_selection import GridSearchCV, RandomizedSearchCV\n",
        "from sklearn.model_selection import train_test_split\n",
        "from sklearn.tree import DecisionTreeClassifier"
      ]
    },
    {
      "cell_type": "code",
      "execution_count": 2,
      "metadata": {
        "id": "mdcApIzGfkA-"
      },
      "outputs": [],
      "source": [
        "X, y = load_breast_cancer(return_X_y=True)"
      ]
    },
    {
      "cell_type": "code",
      "execution_count": 3,
      "metadata": {
        "id": "MOXrwdU2go2t"
      },
      "outputs": [],
      "source": [
        "test_size=0.25\n",
        "X_train, X_test, y_train, y_test = train_test_split(X, y, test_size=test_size, random_state=42)"
      ]
    },
    {
      "cell_type": "markdown",
      "metadata": {
        "id": "mflmNCKwiiC6"
      },
      "source": [
        "**Ejemplo 1:** encuentra los mejores hiperparámetros usando `GridSearchCV`"
      ]
    },
    {
      "cell_type": "code",
      "execution_count": 4,
      "metadata": {
        "id": "Fil-25CXgq6v"
      },
      "outputs": [
        {
          "name": "stdout",
          "output_type": "stream",
          "text": [
            "Fitting 5 folds for each of 24 candidates, totalling 120 fits\n",
            "Tiempo de búsqueda: 0.865s\n"
          ]
        }
      ],
      "source": [
        "clf = DecisionTreeClassifier()\n",
        "\n",
        "# Define los valores que usarás en la búsqueda del hiperparametro C\n",
        "param_grid = {\n",
        "    \"max_depth\": (3, 6, 12, 18),\n",
        "    \"min_samples_leaf\": (1, 2, 3),\n",
        "    \"criterion\": [\"gini\", \"entropy\"]\n",
        "}\n",
        "\n",
        "# Utiliza GridSearchCV\n",
        "gs = GridSearchCV(clf, param_grid, cv=5, scoring='f1', verbose=1)\n",
        "\n",
        "t0 = time.time()\n",
        "gs.fit(X_train, y_train)\n",
        "print(\"Tiempo de búsqueda: {:.3f}s\".format(time.time() - t0))"
      ]
    },
    {
      "cell_type": "code",
      "execution_count": 5,
      "metadata": {},
      "outputs": [
        {
          "data": {
            "text/plain": [
              "array([158, 268])"
            ]
          },
          "execution_count": 5,
          "metadata": {},
          "output_type": "execute_result"
        }
      ],
      "source": [
        "np.bincount(y_train) # Nos indicará la cantidad de ejemplos por clase en el conjunto de entrenamiento, como hay un leve desbalanceo, usé `f1` como métrica de evaluación."
      ]
    },
    {
      "cell_type": "markdown",
      "metadata": {
        "id": "tteRejCFKQFr"
      },
      "source": [
        "Podemos ver que el atributo `cv_results_` nos entrega los resultados de toda la búsqueda."
      ]
    },
    {
      "cell_type": "code",
      "execution_count": 6,
      "metadata": {
        "id": "HvqXXHKWqeki"
      },
      "outputs": [
        {
          "data": {
            "text/plain": [
              "['__abstractmethods__',\n",
              " '__annotations__',\n",
              " '__class__',\n",
              " '__delattr__',\n",
              " '__dict__',\n",
              " '__dir__',\n",
              " '__doc__',\n",
              " '__eq__',\n",
              " '__format__',\n",
              " '__ge__',\n",
              " '__getattribute__',\n",
              " '__getstate__',\n",
              " '__gt__',\n",
              " '__hash__',\n",
              " '__init__',\n",
              " '__init_subclass__',\n",
              " '__le__',\n",
              " '__lt__',\n",
              " '__module__',\n",
              " '__ne__',\n",
              " '__new__',\n",
              " '__reduce__',\n",
              " '__reduce_ex__',\n",
              " '__repr__',\n",
              " '__setattr__',\n",
              " '__setstate__',\n",
              " '__sizeof__',\n",
              " '__sklearn_clone__',\n",
              " '__sklearn_tags__',\n",
              " '__str__',\n",
              " '__subclasshook__',\n",
              " '__weakref__',\n",
              " '_abc_impl',\n",
              " '_build_request_for_signature',\n",
              " '_check_feature_names',\n",
              " '_check_n_features',\n",
              " '_check_refit_for_multimetric',\n",
              " '_doc_link_module',\n",
              " '_doc_link_template',\n",
              " '_doc_link_url_param_generator',\n",
              " '_estimator_type',\n",
              " '_format_results',\n",
              " '_get_default_requests',\n",
              " '_get_doc_link',\n",
              " '_get_metadata_request',\n",
              " '_get_param_names',\n",
              " '_get_routed_params_for_fit',\n",
              " '_get_scorers',\n",
              " '_get_tags',\n",
              " '_more_tags',\n",
              " '_parameter_constraints',\n",
              " '_repr_html_',\n",
              " '_repr_html_inner',\n",
              " '_repr_mimebundle_',\n",
              " '_run_search',\n",
              " '_select_best_index',\n",
              " '_sk_visual_block_',\n",
              " '_validate_data',\n",
              " '_validate_params',\n",
              " 'best_estimator_',\n",
              " 'best_index_',\n",
              " 'best_params_',\n",
              " 'best_score_',\n",
              " 'classes_',\n",
              " 'cv',\n",
              " 'cv_results_',\n",
              " 'decision_function',\n",
              " 'error_score',\n",
              " 'estimator',\n",
              " 'fit',\n",
              " 'get_metadata_routing',\n",
              " 'get_params',\n",
              " 'inverse_transform',\n",
              " 'multimetric_',\n",
              " 'n_features_in_',\n",
              " 'n_jobs',\n",
              " 'n_splits_',\n",
              " 'param_grid',\n",
              " 'pre_dispatch',\n",
              " 'predict',\n",
              " 'predict_log_proba',\n",
              " 'predict_proba',\n",
              " 'refit',\n",
              " 'refit_time_',\n",
              " 'return_train_score',\n",
              " 'score',\n",
              " 'score_samples',\n",
              " 'scorer_',\n",
              " 'scoring',\n",
              " 'set_params',\n",
              " 'transform',\n",
              " 'verbose']"
            ]
          },
          "execution_count": 6,
          "metadata": {},
          "output_type": "execute_result"
        }
      ],
      "source": [
        "dir(gs)"
      ]
    },
    {
      "cell_type": "code",
      "execution_count": 7,
      "metadata": {
        "id": "dqaewB2WIAXK"
      },
      "outputs": [
        {
          "data": {
            "text/plain": [
              "{'mean_fit_time': array([0.00269046, 0.00568676, 0.00197926, 0.00701842, 0.00306702,\n",
              "        0.0075995 , 0.00510626, 0.00466471, 0.00438581, 0.00954285,\n",
              "        0.00446148, 0.00532918, 0.00625577, 0.00567384, 0.00321345,\n",
              "        0.00265555, 0.00403886, 0.00313439, 0.00883741, 0.00228157,\n",
              "        0.00883703, 0.00729442, 0.00482497, 0.00513973]),\n",
              " 'std_fit_time': array([0.00205623, 0.00439541, 0.00166453, 0.00540893, 0.00531628,\n",
              "        0.0056854 , 0.00647129, 0.0024193 , 0.00225963, 0.00781941,\n",
              "        0.00617596, 0.0066857 , 0.00766279, 0.0070047 , 0.00642691,\n",
              "        0.00531111, 0.0039156 , 0.00626879, 0.00728036, 0.00419356,\n",
              "        0.00736452, 0.00641736, 0.00595238, 0.00629486]),\n",
              " 'mean_score_time': array([1.12748146e-03, 1.80711746e-03, 6.05106354e-04, 8.30745697e-04,\n",
              "        2.53920555e-03, 4.05645370e-04, 2.80270576e-03, 3.01990509e-03,\n",
              "        1.05252266e-03, 4.13942337e-04, 0.00000000e+00, 9.41276550e-04,\n",
              "        3.12657356e-03, 5.39302826e-05, 3.13267708e-03, 6.57000542e-03,\n",
              "        3.13334465e-03, 1.80640221e-03, 2.15911865e-04, 2.68063545e-03,\n",
              "        0.00000000e+00, 3.41987610e-04, 2.87375450e-03, 1.29747391e-04]),\n",
              " 'std_score_time': array([0.00093041, 0.00040429, 0.00080287, 0.00101818, 0.00507841,\n",
              "        0.00081129, 0.00500321, 0.00404548, 0.00090383, 0.00082788,\n",
              "        0.        , 0.00188255, 0.00625315, 0.00010786, 0.00626535,\n",
              "        0.00741093, 0.00626669, 0.0036128 , 0.00043182, 0.00331024,\n",
              "        0.        , 0.00068398, 0.00525207, 0.00025949]),\n",
              " 'param_criterion': masked_array(data=['gini', 'gini', 'gini', 'gini', 'gini', 'gini', 'gini',\n",
              "                    'gini', 'gini', 'gini', 'gini', 'gini', 'entropy',\n",
              "                    'entropy', 'entropy', 'entropy', 'entropy', 'entropy',\n",
              "                    'entropy', 'entropy', 'entropy', 'entropy', 'entropy',\n",
              "                    'entropy'],\n",
              "              mask=[False, False, False, False, False, False, False, False,\n",
              "                    False, False, False, False, False, False, False, False,\n",
              "                    False, False, False, False, False, False, False, False],\n",
              "        fill_value=np.str_('?'),\n",
              "             dtype=object),\n",
              " 'param_max_depth': masked_array(data=[3, 3, 3, 6, 6, 6, 12, 12, 12, 18, 18, 18, 3, 3, 3, 6,\n",
              "                    6, 6, 12, 12, 12, 18, 18, 18],\n",
              "              mask=[False, False, False, False, False, False, False, False,\n",
              "                    False, False, False, False, False, False, False, False,\n",
              "                    False, False, False, False, False, False, False, False],\n",
              "        fill_value=999999),\n",
              " 'param_min_samples_leaf': masked_array(data=[1, 2, 3, 1, 2, 3, 1, 2, 3, 1, 2, 3, 1, 2, 3, 1, 2, 3,\n",
              "                    1, 2, 3, 1, 2, 3],\n",
              "              mask=[False, False, False, False, False, False, False, False,\n",
              "                    False, False, False, False, False, False, False, False,\n",
              "                    False, False, False, False, False, False, False, False],\n",
              "        fill_value=999999),\n",
              " 'params': [{'criterion': 'gini', 'max_depth': 3, 'min_samples_leaf': 1},\n",
              "  {'criterion': 'gini', 'max_depth': 3, 'min_samples_leaf': 2},\n",
              "  {'criterion': 'gini', 'max_depth': 3, 'min_samples_leaf': 3},\n",
              "  {'criterion': 'gini', 'max_depth': 6, 'min_samples_leaf': 1},\n",
              "  {'criterion': 'gini', 'max_depth': 6, 'min_samples_leaf': 2},\n",
              "  {'criterion': 'gini', 'max_depth': 6, 'min_samples_leaf': 3},\n",
              "  {'criterion': 'gini', 'max_depth': 12, 'min_samples_leaf': 1},\n",
              "  {'criterion': 'gini', 'max_depth': 12, 'min_samples_leaf': 2},\n",
              "  {'criterion': 'gini', 'max_depth': 12, 'min_samples_leaf': 3},\n",
              "  {'criterion': 'gini', 'max_depth': 18, 'min_samples_leaf': 1},\n",
              "  {'criterion': 'gini', 'max_depth': 18, 'min_samples_leaf': 2},\n",
              "  {'criterion': 'gini', 'max_depth': 18, 'min_samples_leaf': 3},\n",
              "  {'criterion': 'entropy', 'max_depth': 3, 'min_samples_leaf': 1},\n",
              "  {'criterion': 'entropy', 'max_depth': 3, 'min_samples_leaf': 2},\n",
              "  {'criterion': 'entropy', 'max_depth': 3, 'min_samples_leaf': 3},\n",
              "  {'criterion': 'entropy', 'max_depth': 6, 'min_samples_leaf': 1},\n",
              "  {'criterion': 'entropy', 'max_depth': 6, 'min_samples_leaf': 2},\n",
              "  {'criterion': 'entropy', 'max_depth': 6, 'min_samples_leaf': 3},\n",
              "  {'criterion': 'entropy', 'max_depth': 12, 'min_samples_leaf': 1},\n",
              "  {'criterion': 'entropy', 'max_depth': 12, 'min_samples_leaf': 2},\n",
              "  {'criterion': 'entropy', 'max_depth': 12, 'min_samples_leaf': 3},\n",
              "  {'criterion': 'entropy', 'max_depth': 18, 'min_samples_leaf': 1},\n",
              "  {'criterion': 'entropy', 'max_depth': 18, 'min_samples_leaf': 2},\n",
              "  {'criterion': 'entropy', 'max_depth': 18, 'min_samples_leaf': 3}],\n",
              " 'split0_test_score': array([0.97247706, 0.97247706, 0.97247706, 0.94545455, 0.95495495,\n",
              "        0.94545455, 0.94545455, 0.95412844, 0.94545455, 0.95327103,\n",
              "        0.95412844, 0.94444444, 0.98181818, 0.98181818, 0.98181818,\n",
              "        0.94444444, 0.96296296, 0.95412844, 0.96363636, 0.96428571,\n",
              "        0.96296296, 0.98148148, 0.95412844, 0.96296296]),\n",
              " 'split1_test_score': array([0.91588785, 0.90740741, 0.91588785, 0.9245283 , 0.90740741,\n",
              "        0.91428571, 0.91428571, 0.94444444, 0.91428571, 0.91588785,\n",
              "        0.9245283 , 0.9245283 , 0.92727273, 0.92727273, 0.91588785,\n",
              "        0.93577982, 0.93577982, 0.9245283 , 0.93457944, 0.92727273,\n",
              "        0.93333333, 0.92727273, 0.93577982, 0.93333333]),\n",
              " 'split2_test_score': array([0.94230769, 0.94230769, 0.93333333, 0.93203883, 0.92      ,\n",
              "        0.91089109, 0.94230769, 0.90909091, 0.94117647, 0.93069307,\n",
              "        0.92156863, 0.93203883, 0.94230769, 0.94230769, 0.94230769,\n",
              "        0.94117647, 0.94117647, 0.92156863, 0.94117647, 0.94117647,\n",
              "        0.93069307, 0.94230769, 0.93069307, 0.92156863]),\n",
              " 'split3_test_score': array([0.94339623, 0.94339623, 0.94339623, 0.92592593, 0.94339623,\n",
              "        0.95327103, 0.93333333, 0.94339623, 0.96296296, 0.94339623,\n",
              "        0.94339623, 0.96296296, 0.94339623, 0.94339623, 0.94339623,\n",
              "        0.94339623, 0.92307692, 0.94339623, 0.92307692, 0.94339623,\n",
              "        0.94339623, 0.93333333, 0.94339623, 0.94339623]),\n",
              " 'split4_test_score': array([0.92592593, 0.95412844, 0.95412844, 0.9245283 , 0.91262136,\n",
              "        0.91262136, 0.93457944, 0.91262136, 0.91262136, 0.90566038,\n",
              "        0.92156863, 0.94230769, 0.93457944, 0.96296296, 0.93457944,\n",
              "        0.94339623, 0.93333333, 0.9245283 , 0.9245283 , 0.94339623,\n",
              "        0.9245283 , 0.94339623, 0.94339623, 0.95327103]),\n",
              " 'mean_test_score': array([0.93999895, 0.94394337, 0.94384458, 0.93049518, 0.92767599,\n",
              "        0.92730475, 0.93399214, 0.93273628, 0.93530021, 0.92978171,\n",
              "        0.93303804, 0.94125645, 0.94587485, 0.95155156, 0.94359788,\n",
              "        0.94163864, 0.9392659 , 0.93362998, 0.9373995 , 0.94390547,\n",
              "        0.93898278, 0.94555829, 0.94147876, 0.94290644]),\n",
              " 'std_test_score': array([0.01924107, 0.02124033, 0.01906747, 0.00797811, 0.01837197,\n",
              "        0.01821081, 0.01085963, 0.0182869 , 0.01928112, 0.01739432,\n",
              "        0.01332372, 0.01301719, 0.01889136, 0.01890877, 0.02150198,\n",
              "        0.00311738, 0.01322598, 0.01285865, 0.01470643, 0.01183189,\n",
              "        0.0134469 , 0.01891839, 0.00795207, 0.01453874]),\n",
              " 'rank_test_score': array([12,  4,  6, 21, 23, 24, 17, 20, 16, 22, 19, 11,  2,  1,  7,  9, 13,\n",
              "        18, 15,  5, 14,  3, 10,  8], dtype=int32)}"
            ]
          },
          "execution_count": 7,
          "metadata": {},
          "output_type": "execute_result"
        }
      ],
      "source": [
        "gs.cv_results_"
      ]
    },
    {
      "cell_type": "markdown",
      "metadata": {
        "id": "m2txTbC3PwLd"
      },
      "source": [
        "Lo más importante es extraer los hiperparámetros del modelo que mejor error en de validación sacaron"
      ]
    },
    {
      "cell_type": "code",
      "execution_count": 8,
      "metadata": {
        "id": "KZ6IrAW2I8Dk"
      },
      "outputs": [
        {
          "data": {
            "text/plain": [
              "{'criterion': 'entropy', 'max_depth': 3, 'min_samples_leaf': 2}"
            ]
          },
          "execution_count": 8,
          "metadata": {},
          "output_type": "execute_result"
        }
      ],
      "source": [
        "gs.best_params_"
      ]
    },
    {
      "cell_type": "markdown",
      "metadata": {
        "id": "vfBKTWK2P7J_"
      },
      "source": [
        "También es posible el mejor resultado en la métrica usada"
      ]
    },
    {
      "cell_type": "code",
      "execution_count": 9,
      "metadata": {
        "id": "rU8hoyPLPQS3"
      },
      "outputs": [
        {
          "data": {
            "text/plain": [
              "np.float64(0.9515515581553318)"
            ]
          },
          "execution_count": 9,
          "metadata": {},
          "output_type": "execute_result"
        }
      ],
      "source": [
        "gs.best_score_"
      ]
    },
    {
      "cell_type": "markdown",
      "metadata": {
        "id": "jyAy8u0VQMqm"
      },
      "source": [
        "Finalmente, es posible extraer directamente un estimador que que ha sido creado con los mejores hiperparámetros."
      ]
    },
    {
      "cell_type": "code",
      "execution_count": 10,
      "metadata": {
        "id": "HSuzVLYWPS9q"
      },
      "outputs": [
        {
          "data": {
            "text/html": [
              "<style>#sk-container-id-1 {\n",
              "  /* Definition of color scheme common for light and dark mode */\n",
              "  --sklearn-color-text: #000;\n",
              "  --sklearn-color-text-muted: #666;\n",
              "  --sklearn-color-line: gray;\n",
              "  /* Definition of color scheme for unfitted estimators */\n",
              "  --sklearn-color-unfitted-level-0: #fff5e6;\n",
              "  --sklearn-color-unfitted-level-1: #f6e4d2;\n",
              "  --sklearn-color-unfitted-level-2: #ffe0b3;\n",
              "  --sklearn-color-unfitted-level-3: chocolate;\n",
              "  /* Definition of color scheme for fitted estimators */\n",
              "  --sklearn-color-fitted-level-0: #f0f8ff;\n",
              "  --sklearn-color-fitted-level-1: #d4ebff;\n",
              "  --sklearn-color-fitted-level-2: #b3dbfd;\n",
              "  --sklearn-color-fitted-level-3: cornflowerblue;\n",
              "\n",
              "  /* Specific color for light theme */\n",
              "  --sklearn-color-text-on-default-background: var(--sg-text-color, var(--theme-code-foreground, var(--jp-content-font-color1, black)));\n",
              "  --sklearn-color-background: var(--sg-background-color, var(--theme-background, var(--jp-layout-color0, white)));\n",
              "  --sklearn-color-border-box: var(--sg-text-color, var(--theme-code-foreground, var(--jp-content-font-color1, black)));\n",
              "  --sklearn-color-icon: #696969;\n",
              "\n",
              "  @media (prefers-color-scheme: dark) {\n",
              "    /* Redefinition of color scheme for dark theme */\n",
              "    --sklearn-color-text-on-default-background: var(--sg-text-color, var(--theme-code-foreground, var(--jp-content-font-color1, white)));\n",
              "    --sklearn-color-background: var(--sg-background-color, var(--theme-background, var(--jp-layout-color0, #111)));\n",
              "    --sklearn-color-border-box: var(--sg-text-color, var(--theme-code-foreground, var(--jp-content-font-color1, white)));\n",
              "    --sklearn-color-icon: #878787;\n",
              "  }\n",
              "}\n",
              "\n",
              "#sk-container-id-1 {\n",
              "  color: var(--sklearn-color-text);\n",
              "}\n",
              "\n",
              "#sk-container-id-1 pre {\n",
              "  padding: 0;\n",
              "}\n",
              "\n",
              "#sk-container-id-1 input.sk-hidden--visually {\n",
              "  border: 0;\n",
              "  clip: rect(1px 1px 1px 1px);\n",
              "  clip: rect(1px, 1px, 1px, 1px);\n",
              "  height: 1px;\n",
              "  margin: -1px;\n",
              "  overflow: hidden;\n",
              "  padding: 0;\n",
              "  position: absolute;\n",
              "  width: 1px;\n",
              "}\n",
              "\n",
              "#sk-container-id-1 div.sk-dashed-wrapped {\n",
              "  border: 1px dashed var(--sklearn-color-line);\n",
              "  margin: 0 0.4em 0.5em 0.4em;\n",
              "  box-sizing: border-box;\n",
              "  padding-bottom: 0.4em;\n",
              "  background-color: var(--sklearn-color-background);\n",
              "}\n",
              "\n",
              "#sk-container-id-1 div.sk-container {\n",
              "  /* jupyter's `normalize.less` sets `[hidden] { display: none; }`\n",
              "     but bootstrap.min.css set `[hidden] { display: none !important; }`\n",
              "     so we also need the `!important` here to be able to override the\n",
              "     default hidden behavior on the sphinx rendered scikit-learn.org.\n",
              "     See: https://github.com/scikit-learn/scikit-learn/issues/21755 */\n",
              "  display: inline-block !important;\n",
              "  position: relative;\n",
              "}\n",
              "\n",
              "#sk-container-id-1 div.sk-text-repr-fallback {\n",
              "  display: none;\n",
              "}\n",
              "\n",
              "div.sk-parallel-item,\n",
              "div.sk-serial,\n",
              "div.sk-item {\n",
              "  /* draw centered vertical line to link estimators */\n",
              "  background-image: linear-gradient(var(--sklearn-color-text-on-default-background), var(--sklearn-color-text-on-default-background));\n",
              "  background-size: 2px 100%;\n",
              "  background-repeat: no-repeat;\n",
              "  background-position: center center;\n",
              "}\n",
              "\n",
              "/* Parallel-specific style estimator block */\n",
              "\n",
              "#sk-container-id-1 div.sk-parallel-item::after {\n",
              "  content: \"\";\n",
              "  width: 100%;\n",
              "  border-bottom: 2px solid var(--sklearn-color-text-on-default-background);\n",
              "  flex-grow: 1;\n",
              "}\n",
              "\n",
              "#sk-container-id-1 div.sk-parallel {\n",
              "  display: flex;\n",
              "  align-items: stretch;\n",
              "  justify-content: center;\n",
              "  background-color: var(--sklearn-color-background);\n",
              "  position: relative;\n",
              "}\n",
              "\n",
              "#sk-container-id-1 div.sk-parallel-item {\n",
              "  display: flex;\n",
              "  flex-direction: column;\n",
              "}\n",
              "\n",
              "#sk-container-id-1 div.sk-parallel-item:first-child::after {\n",
              "  align-self: flex-end;\n",
              "  width: 50%;\n",
              "}\n",
              "\n",
              "#sk-container-id-1 div.sk-parallel-item:last-child::after {\n",
              "  align-self: flex-start;\n",
              "  width: 50%;\n",
              "}\n",
              "\n",
              "#sk-container-id-1 div.sk-parallel-item:only-child::after {\n",
              "  width: 0;\n",
              "}\n",
              "\n",
              "/* Serial-specific style estimator block */\n",
              "\n",
              "#sk-container-id-1 div.sk-serial {\n",
              "  display: flex;\n",
              "  flex-direction: column;\n",
              "  align-items: center;\n",
              "  background-color: var(--sklearn-color-background);\n",
              "  padding-right: 1em;\n",
              "  padding-left: 1em;\n",
              "}\n",
              "\n",
              "\n",
              "/* Toggleable style: style used for estimator/Pipeline/ColumnTransformer box that is\n",
              "clickable and can be expanded/collapsed.\n",
              "- Pipeline and ColumnTransformer use this feature and define the default style\n",
              "- Estimators will overwrite some part of the style using the `sk-estimator` class\n",
              "*/\n",
              "\n",
              "/* Pipeline and ColumnTransformer style (default) */\n",
              "\n",
              "#sk-container-id-1 div.sk-toggleable {\n",
              "  /* Default theme specific background. It is overwritten whether we have a\n",
              "  specific estimator or a Pipeline/ColumnTransformer */\n",
              "  background-color: var(--sklearn-color-background);\n",
              "}\n",
              "\n",
              "/* Toggleable label */\n",
              "#sk-container-id-1 label.sk-toggleable__label {\n",
              "  cursor: pointer;\n",
              "  display: flex;\n",
              "  width: 100%;\n",
              "  margin-bottom: 0;\n",
              "  padding: 0.5em;\n",
              "  box-sizing: border-box;\n",
              "  text-align: center;\n",
              "  align-items: start;\n",
              "  justify-content: space-between;\n",
              "  gap: 0.5em;\n",
              "}\n",
              "\n",
              "#sk-container-id-1 label.sk-toggleable__label .caption {\n",
              "  font-size: 0.6rem;\n",
              "  font-weight: lighter;\n",
              "  color: var(--sklearn-color-text-muted);\n",
              "}\n",
              "\n",
              "#sk-container-id-1 label.sk-toggleable__label-arrow:before {\n",
              "  /* Arrow on the left of the label */\n",
              "  content: \"▸\";\n",
              "  float: left;\n",
              "  margin-right: 0.25em;\n",
              "  color: var(--sklearn-color-icon);\n",
              "}\n",
              "\n",
              "#sk-container-id-1 label.sk-toggleable__label-arrow:hover:before {\n",
              "  color: var(--sklearn-color-text);\n",
              "}\n",
              "\n",
              "/* Toggleable content - dropdown */\n",
              "\n",
              "#sk-container-id-1 div.sk-toggleable__content {\n",
              "  max-height: 0;\n",
              "  max-width: 0;\n",
              "  overflow: hidden;\n",
              "  text-align: left;\n",
              "  /* unfitted */\n",
              "  background-color: var(--sklearn-color-unfitted-level-0);\n",
              "}\n",
              "\n",
              "#sk-container-id-1 div.sk-toggleable__content.fitted {\n",
              "  /* fitted */\n",
              "  background-color: var(--sklearn-color-fitted-level-0);\n",
              "}\n",
              "\n",
              "#sk-container-id-1 div.sk-toggleable__content pre {\n",
              "  margin: 0.2em;\n",
              "  border-radius: 0.25em;\n",
              "  color: var(--sklearn-color-text);\n",
              "  /* unfitted */\n",
              "  background-color: var(--sklearn-color-unfitted-level-0);\n",
              "}\n",
              "\n",
              "#sk-container-id-1 div.sk-toggleable__content.fitted pre {\n",
              "  /* unfitted */\n",
              "  background-color: var(--sklearn-color-fitted-level-0);\n",
              "}\n",
              "\n",
              "#sk-container-id-1 input.sk-toggleable__control:checked~div.sk-toggleable__content {\n",
              "  /* Expand drop-down */\n",
              "  max-height: 200px;\n",
              "  max-width: 100%;\n",
              "  overflow: auto;\n",
              "}\n",
              "\n",
              "#sk-container-id-1 input.sk-toggleable__control:checked~label.sk-toggleable__label-arrow:before {\n",
              "  content: \"▾\";\n",
              "}\n",
              "\n",
              "/* Pipeline/ColumnTransformer-specific style */\n",
              "\n",
              "#sk-container-id-1 div.sk-label input.sk-toggleable__control:checked~label.sk-toggleable__label {\n",
              "  color: var(--sklearn-color-text);\n",
              "  background-color: var(--sklearn-color-unfitted-level-2);\n",
              "}\n",
              "\n",
              "#sk-container-id-1 div.sk-label.fitted input.sk-toggleable__control:checked~label.sk-toggleable__label {\n",
              "  background-color: var(--sklearn-color-fitted-level-2);\n",
              "}\n",
              "\n",
              "/* Estimator-specific style */\n",
              "\n",
              "/* Colorize estimator box */\n",
              "#sk-container-id-1 div.sk-estimator input.sk-toggleable__control:checked~label.sk-toggleable__label {\n",
              "  /* unfitted */\n",
              "  background-color: var(--sklearn-color-unfitted-level-2);\n",
              "}\n",
              "\n",
              "#sk-container-id-1 div.sk-estimator.fitted input.sk-toggleable__control:checked~label.sk-toggleable__label {\n",
              "  /* fitted */\n",
              "  background-color: var(--sklearn-color-fitted-level-2);\n",
              "}\n",
              "\n",
              "#sk-container-id-1 div.sk-label label.sk-toggleable__label,\n",
              "#sk-container-id-1 div.sk-label label {\n",
              "  /* The background is the default theme color */\n",
              "  color: var(--sklearn-color-text-on-default-background);\n",
              "}\n",
              "\n",
              "/* On hover, darken the color of the background */\n",
              "#sk-container-id-1 div.sk-label:hover label.sk-toggleable__label {\n",
              "  color: var(--sklearn-color-text);\n",
              "  background-color: var(--sklearn-color-unfitted-level-2);\n",
              "}\n",
              "\n",
              "/* Label box, darken color on hover, fitted */\n",
              "#sk-container-id-1 div.sk-label.fitted:hover label.sk-toggleable__label.fitted {\n",
              "  color: var(--sklearn-color-text);\n",
              "  background-color: var(--sklearn-color-fitted-level-2);\n",
              "}\n",
              "\n",
              "/* Estimator label */\n",
              "\n",
              "#sk-container-id-1 div.sk-label label {\n",
              "  font-family: monospace;\n",
              "  font-weight: bold;\n",
              "  display: inline-block;\n",
              "  line-height: 1.2em;\n",
              "}\n",
              "\n",
              "#sk-container-id-1 div.sk-label-container {\n",
              "  text-align: center;\n",
              "}\n",
              "\n",
              "/* Estimator-specific */\n",
              "#sk-container-id-1 div.sk-estimator {\n",
              "  font-family: monospace;\n",
              "  border: 1px dotted var(--sklearn-color-border-box);\n",
              "  border-radius: 0.25em;\n",
              "  box-sizing: border-box;\n",
              "  margin-bottom: 0.5em;\n",
              "  /* unfitted */\n",
              "  background-color: var(--sklearn-color-unfitted-level-0);\n",
              "}\n",
              "\n",
              "#sk-container-id-1 div.sk-estimator.fitted {\n",
              "  /* fitted */\n",
              "  background-color: var(--sklearn-color-fitted-level-0);\n",
              "}\n",
              "\n",
              "/* on hover */\n",
              "#sk-container-id-1 div.sk-estimator:hover {\n",
              "  /* unfitted */\n",
              "  background-color: var(--sklearn-color-unfitted-level-2);\n",
              "}\n",
              "\n",
              "#sk-container-id-1 div.sk-estimator.fitted:hover {\n",
              "  /* fitted */\n",
              "  background-color: var(--sklearn-color-fitted-level-2);\n",
              "}\n",
              "\n",
              "/* Specification for estimator info (e.g. \"i\" and \"?\") */\n",
              "\n",
              "/* Common style for \"i\" and \"?\" */\n",
              "\n",
              ".sk-estimator-doc-link,\n",
              "a:link.sk-estimator-doc-link,\n",
              "a:visited.sk-estimator-doc-link {\n",
              "  float: right;\n",
              "  font-size: smaller;\n",
              "  line-height: 1em;\n",
              "  font-family: monospace;\n",
              "  background-color: var(--sklearn-color-background);\n",
              "  border-radius: 1em;\n",
              "  height: 1em;\n",
              "  width: 1em;\n",
              "  text-decoration: none !important;\n",
              "  margin-left: 0.5em;\n",
              "  text-align: center;\n",
              "  /* unfitted */\n",
              "  border: var(--sklearn-color-unfitted-level-1) 1pt solid;\n",
              "  color: var(--sklearn-color-unfitted-level-1);\n",
              "}\n",
              "\n",
              ".sk-estimator-doc-link.fitted,\n",
              "a:link.sk-estimator-doc-link.fitted,\n",
              "a:visited.sk-estimator-doc-link.fitted {\n",
              "  /* fitted */\n",
              "  border: var(--sklearn-color-fitted-level-1) 1pt solid;\n",
              "  color: var(--sklearn-color-fitted-level-1);\n",
              "}\n",
              "\n",
              "/* On hover */\n",
              "div.sk-estimator:hover .sk-estimator-doc-link:hover,\n",
              ".sk-estimator-doc-link:hover,\n",
              "div.sk-label-container:hover .sk-estimator-doc-link:hover,\n",
              ".sk-estimator-doc-link:hover {\n",
              "  /* unfitted */\n",
              "  background-color: var(--sklearn-color-unfitted-level-3);\n",
              "  color: var(--sklearn-color-background);\n",
              "  text-decoration: none;\n",
              "}\n",
              "\n",
              "div.sk-estimator.fitted:hover .sk-estimator-doc-link.fitted:hover,\n",
              ".sk-estimator-doc-link.fitted:hover,\n",
              "div.sk-label-container:hover .sk-estimator-doc-link.fitted:hover,\n",
              ".sk-estimator-doc-link.fitted:hover {\n",
              "  /* fitted */\n",
              "  background-color: var(--sklearn-color-fitted-level-3);\n",
              "  color: var(--sklearn-color-background);\n",
              "  text-decoration: none;\n",
              "}\n",
              "\n",
              "/* Span, style for the box shown on hovering the info icon */\n",
              ".sk-estimator-doc-link span {\n",
              "  display: none;\n",
              "  z-index: 9999;\n",
              "  position: relative;\n",
              "  font-weight: normal;\n",
              "  right: .2ex;\n",
              "  padding: .5ex;\n",
              "  margin: .5ex;\n",
              "  width: min-content;\n",
              "  min-width: 20ex;\n",
              "  max-width: 50ex;\n",
              "  color: var(--sklearn-color-text);\n",
              "  box-shadow: 2pt 2pt 4pt #999;\n",
              "  /* unfitted */\n",
              "  background: var(--sklearn-color-unfitted-level-0);\n",
              "  border: .5pt solid var(--sklearn-color-unfitted-level-3);\n",
              "}\n",
              "\n",
              ".sk-estimator-doc-link.fitted span {\n",
              "  /* fitted */\n",
              "  background: var(--sklearn-color-fitted-level-0);\n",
              "  border: var(--sklearn-color-fitted-level-3);\n",
              "}\n",
              "\n",
              ".sk-estimator-doc-link:hover span {\n",
              "  display: block;\n",
              "}\n",
              "\n",
              "/* \"?\"-specific style due to the `<a>` HTML tag */\n",
              "\n",
              "#sk-container-id-1 a.estimator_doc_link {\n",
              "  float: right;\n",
              "  font-size: 1rem;\n",
              "  line-height: 1em;\n",
              "  font-family: monospace;\n",
              "  background-color: var(--sklearn-color-background);\n",
              "  border-radius: 1rem;\n",
              "  height: 1rem;\n",
              "  width: 1rem;\n",
              "  text-decoration: none;\n",
              "  /* unfitted */\n",
              "  color: var(--sklearn-color-unfitted-level-1);\n",
              "  border: var(--sklearn-color-unfitted-level-1) 1pt solid;\n",
              "}\n",
              "\n",
              "#sk-container-id-1 a.estimator_doc_link.fitted {\n",
              "  /* fitted */\n",
              "  border: var(--sklearn-color-fitted-level-1) 1pt solid;\n",
              "  color: var(--sklearn-color-fitted-level-1);\n",
              "}\n",
              "\n",
              "/* On hover */\n",
              "#sk-container-id-1 a.estimator_doc_link:hover {\n",
              "  /* unfitted */\n",
              "  background-color: var(--sklearn-color-unfitted-level-3);\n",
              "  color: var(--sklearn-color-background);\n",
              "  text-decoration: none;\n",
              "}\n",
              "\n",
              "#sk-container-id-1 a.estimator_doc_link.fitted:hover {\n",
              "  /* fitted */\n",
              "  background-color: var(--sklearn-color-fitted-level-3);\n",
              "}\n",
              "</style><div id=\"sk-container-id-1\" class=\"sk-top-container\"><div class=\"sk-text-repr-fallback\"><pre>DecisionTreeClassifier(criterion=&#x27;entropy&#x27;, max_depth=3, min_samples_leaf=2)</pre><b>In a Jupyter environment, please rerun this cell to show the HTML representation or trust the notebook. <br />On GitHub, the HTML representation is unable to render, please try loading this page with nbviewer.org.</b></div><div class=\"sk-container\" hidden><div class=\"sk-item\"><div class=\"sk-estimator fitted sk-toggleable\"><input class=\"sk-toggleable__control sk-hidden--visually\" id=\"sk-estimator-id-1\" type=\"checkbox\" checked><label for=\"sk-estimator-id-1\" class=\"sk-toggleable__label fitted sk-toggleable__label-arrow\"><div><div>DecisionTreeClassifier</div></div><div><a class=\"sk-estimator-doc-link fitted\" rel=\"noreferrer\" target=\"_blank\" href=\"https://scikit-learn.org/1.6/modules/generated/sklearn.tree.DecisionTreeClassifier.html\">?<span>Documentation for DecisionTreeClassifier</span></a><span class=\"sk-estimator-doc-link fitted\">i<span>Fitted</span></span></div></label><div class=\"sk-toggleable__content fitted\"><pre>DecisionTreeClassifier(criterion=&#x27;entropy&#x27;, max_depth=3, min_samples_leaf=2)</pre></div> </div></div></div></div>"
            ],
            "text/plain": [
              "DecisionTreeClassifier(criterion='entropy', max_depth=3, min_samples_leaf=2)"
            ]
          },
          "execution_count": 10,
          "metadata": {},
          "output_type": "execute_result"
        }
      ],
      "source": [
        "gs.best_estimator_"
      ]
    },
    {
      "cell_type": "markdown",
      "metadata": {
        "id": "9UxIKGE1QWh0"
      },
      "source": [
        "**Ejemplo 2:** la clase `RandomizedSearchCV` se puede usar casi de la misma manera, solo que esta vez se debe escoger un número de combinaciones a evaluar; las cuales se escogeran de manera aleatoria."
      ]
    },
    {
      "cell_type": "code",
      "execution_count": 46,
      "metadata": {
        "id": "9-SVjssQPmKc"
      },
      "outputs": [
        {
          "name": "stdout",
          "output_type": "stream",
          "text": [
            "Fitting 5 folds for each of 10 candidates, totalling 50 fits\n",
            "Tiempo de búsqueda: 0.082s\n"
          ]
        }
      ],
      "source": [
        "clf = DecisionTreeClassifier()\n",
        "\n",
        "# Define los valores que usarás en la búsqueda del hiperparametro C\n",
        "param_dist = {\n",
        "    \"max_depth\": (3, 6, 12, 18),\n",
        "    \"min_samples_leaf\": (1, 2, 3),\n",
        "    \"criterion\": [\"gini\", \"entropy\"]\n",
        "}\n",
        "\n",
        "# Utiliza RandomizedSearchCV\n",
        "rs = RandomizedSearchCV(\n",
        "    clf, \n",
        "    param_dist, \n",
        "    scoring='f1', \n",
        "    cv=5, \n",
        "    verbose=1, \n",
        "    n_jobs=-1,\n",
        "    n_iter=10,  # Número de combinaciones aleatorias a probar\n",
        "    random_state=42\n",
        ")\n",
        "\n",
        "t0 = time.time()\n",
        "rs.fit(X_train, y_train)\n",
        "print(\"Tiempo de búsqueda: {:.3f}s\".format(time.time() - t0))"
      ]
    },
    {
      "cell_type": "code",
      "execution_count": 47,
      "metadata": {
        "id": "r5lznQSNSAdr"
      },
      "outputs": [
        {
          "data": {
            "text/plain": [
              "np.float64(0.9476470698471736)"
            ]
          },
          "execution_count": 47,
          "metadata": {},
          "output_type": "execute_result"
        }
      ],
      "source": [
        "rs.best_score_"
      ]
    },
    {
      "cell_type": "markdown",
      "metadata": {
        "id": "OAKtSxo-bll9"
      },
      "source": [
        "Podemos ver que aunque se demoró mucho menos, el resultado no es tan bueno."
      ]
    },
    {
      "cell_type": "markdown",
      "metadata": {},
      "source": [
        "### Parte 2: Experimento con framework de búsqueda de hiperparámetros extra --> Optuna"
      ]
    },
    {
      "cell_type": "code",
      "execution_count": 27,
      "metadata": {},
      "outputs": [],
      "source": [
        "# Importar librerías necesarias\n",
        "import optuna\n",
        "from sklearn.model_selection import cross_val_score, cross_validate"
      ]
    },
    {
      "cell_type": "markdown",
      "metadata": {},
      "source": [
        "Como el dataset ya esta cargado, podemos empezar a definir el espacio de búsqueda de hiperparámetros. Para esto, vamos a definir una función objetivo que recibe un objeto `trial` de Optuna. Este objeto se usa para sugerir valores de hiperparámetros. Usaremos el mismo modelo de los anteriores ejemplos, para que sea más fácil comparar los resultados."
      ]
    },
    {
      "cell_type": "code",
      "execution_count": null,
      "metadata": {},
      "outputs": [],
      "source": [
        "def objective_cv_score(trial):\n",
        "    # Usar los parámetros predefinidos\n",
        "    max_depth = trial.suggest_categorical('max_depth', [3, 6, 12, 18])\n",
        "    min_samples_leaf = trial.suggest_categorical('min_samples_leaf', [1, 2, 3])\n",
        "    criterion = trial.suggest_categorical('criterion', ['gini', 'entropy'])\n",
        "\n",
        "    clf = DecisionTreeClassifier(\n",
        "        max_depth=max_depth,\n",
        "        min_samples_leaf=min_samples_leaf,\n",
        "        criterion=criterion\n",
        "    )\n",
        "\n",
        "    # Calcular el score usando validación cruzada\n",
        "    f1 = cross_val_score(clf, X_train, y_train, scoring='f1', cv=5).mean()\n",
        "    \n",
        "    return f1\n"
      ]
    },
    {
      "cell_type": "code",
      "execution_count": null,
      "metadata": {},
      "outputs": [
        {
          "name": "stderr",
          "output_type": "stream",
          "text": [
            "[I 2025-07-12 18:54:17,266] A new study created in memory with name: no-name-9cef3a7f-85c9-4a28-bb8f-c7addc140939\n",
            "[I 2025-07-12 18:54:17,312] Trial 0 finished with value: 0.9316803010006893 and parameters: {'max_depth': 12, 'min_samples_leaf': 3, 'criterion': 'gini'}. Best is trial 0 with value: 0.9316803010006893.\n",
            "[I 2025-07-12 18:54:17,346] Trial 1 finished with value: 0.9457443208424946 and parameters: {'max_depth': 3, 'min_samples_leaf': 3, 'criterion': 'entropy'}. Best is trial 1 with value: 0.9457443208424946.\n",
            "[I 2025-07-12 18:54:17,388] Trial 2 finished with value: 0.9430485211318516 and parameters: {'max_depth': 12, 'min_samples_leaf': 3, 'criterion': 'entropy'}. Best is trial 1 with value: 0.9457443208424946.\n",
            "[I 2025-07-12 18:54:17,425] Trial 3 finished with value: 0.9473315951118393 and parameters: {'max_depth': 18, 'min_samples_leaf': 1, 'criterion': 'entropy'}. Best is trial 3 with value: 0.9473315951118393.\n",
            "[I 2025-07-12 18:54:17,463] Trial 4 finished with value: 0.9438445829605747 and parameters: {'max_depth': 3, 'min_samples_leaf': 3, 'criterion': 'gini'}. Best is trial 3 with value: 0.9473315951118393.\n",
            "[I 2025-07-12 18:54:17,512] Trial 5 finished with value: 0.9320110054741528 and parameters: {'max_depth': 18, 'min_samples_leaf': 1, 'criterion': 'gini'}. Best is trial 3 with value: 0.9473315951118393.\n",
            "[I 2025-07-12 18:54:17,544] Trial 6 finished with value: 0.9474797109993724 and parameters: {'max_depth': 3, 'min_samples_leaf': 3, 'criterion': 'entropy'}. Best is trial 6 with value: 0.9474797109993724.\n",
            "[I 2025-07-12 18:54:17,583] Trial 7 finished with value: 0.9314837506556192 and parameters: {'max_depth': 6, 'min_samples_leaf': 2, 'criterion': 'gini'}. Best is trial 6 with value: 0.9474797109993724.\n",
            "[I 2025-07-12 18:54:17,633] Trial 8 finished with value: 0.9320320132424316 and parameters: {'max_depth': 18, 'min_samples_leaf': 1, 'criterion': 'gini'}. Best is trial 6 with value: 0.9474797109993724.\n",
            "[I 2025-07-12 18:54:17,678] Trial 9 finished with value: 0.9368492767730265 and parameters: {'max_depth': 18, 'min_samples_leaf': 2, 'criterion': 'entropy'}. Best is trial 6 with value: 0.9474797109993724.\n",
            "[I 2025-07-12 18:54:17,716] Trial 10 finished with value: 0.9457443208424946 and parameters: {'max_depth': 3, 'min_samples_leaf': 3, 'criterion': 'entropy'}. Best is trial 6 with value: 0.9474797109993724.\n",
            "[I 2025-07-12 18:54:17,760] Trial 11 finished with value: 0.9319228296456019 and parameters: {'max_depth': 6, 'min_samples_leaf': 1, 'criterion': 'entropy'}. Best is trial 6 with value: 0.9474797109993724.\n",
            "[I 2025-07-12 18:54:17,799] Trial 12 finished with value: 0.9442040917424448 and parameters: {'max_depth': 3, 'min_samples_leaf': 1, 'criterion': 'entropy'}. Best is trial 6 with value: 0.9474797109993724.\n",
            "[I 2025-07-12 18:54:17,841] Trial 13 finished with value: 0.9413440093018342 and parameters: {'max_depth': 18, 'min_samples_leaf': 1, 'criterion': 'entropy'}. Best is trial 6 with value: 0.9474797109993724.\n",
            "[I 2025-07-12 18:54:17,878] Trial 14 finished with value: 0.9294085899714121 and parameters: {'max_depth': 18, 'min_samples_leaf': 2, 'criterion': 'entropy'}. Best is trial 6 with value: 0.9474797109993724.\n",
            "[I 2025-07-12 18:54:17,920] Trial 15 finished with value: 0.9514210255846199 and parameters: {'max_depth': 3, 'min_samples_leaf': 3, 'criterion': 'entropy'}. Best is trial 15 with value: 0.9514210255846199.\n",
            "[I 2025-07-12 18:54:17,964] Trial 16 finished with value: 0.942237827336001 and parameters: {'max_depth': 3, 'min_samples_leaf': 3, 'criterion': 'entropy'}. Best is trial 15 with value: 0.9514210255846199.\n",
            "[I 2025-07-12 18:54:18,000] Trial 17 finished with value: 0.9420126498631172 and parameters: {'max_depth': 3, 'min_samples_leaf': 3, 'criterion': 'entropy'}. Best is trial 15 with value: 0.9514210255846199.\n",
            "[I 2025-07-12 18:54:18,040] Trial 18 finished with value: 0.9457680892877507 and parameters: {'max_depth': 3, 'min_samples_leaf': 3, 'criterion': 'entropy'}. Best is trial 15 with value: 0.9514210255846199.\n",
            "[I 2025-07-12 18:54:18,085] Trial 19 finished with value: 0.9514210255846199 and parameters: {'max_depth': 3, 'min_samples_leaf': 3, 'criterion': 'entropy'}. Best is trial 15 with value: 0.9514210255846199.\n",
            "[I 2025-07-12 18:54:18,123] Trial 20 finished with value: 0.9393785248314446 and parameters: {'max_depth': 12, 'min_samples_leaf': 3, 'criterion': 'entropy'}. Best is trial 15 with value: 0.9514210255846199.\n",
            "[I 2025-07-12 18:54:18,171] Trial 21 finished with value: 0.9441828610987489 and parameters: {'max_depth': 3, 'min_samples_leaf': 3, 'criterion': 'entropy'}. Best is trial 15 with value: 0.9514210255846199.\n",
            "[I 2025-07-12 18:54:18,212] Trial 22 finished with value: 0.9461196602832546 and parameters: {'max_depth': 3, 'min_samples_leaf': 3, 'criterion': 'entropy'}. Best is trial 15 with value: 0.9514210255846199.\n",
            "[I 2025-07-12 18:54:18,252] Trial 23 finished with value: 0.9435978780521189 and parameters: {'max_depth': 3, 'min_samples_leaf': 3, 'criterion': 'entropy'}. Best is trial 15 with value: 0.9514210255846199.\n",
            "[I 2025-07-12 18:54:18,293] Trial 24 finished with value: 0.9312152144096848 and parameters: {'max_depth': 6, 'min_samples_leaf': 3, 'criterion': 'entropy'}. Best is trial 15 with value: 0.9514210255846199.\n",
            "[I 2025-07-12 18:54:18,343] Trial 25 finished with value: 0.953428640676347 and parameters: {'max_depth': 3, 'min_samples_leaf': 2, 'criterion': 'entropy'}. Best is trial 25 with value: 0.953428640676347.\n",
            "[I 2025-07-12 18:54:18,384] Trial 26 finished with value: 0.9401037467075202 and parameters: {'max_depth': 3, 'min_samples_leaf': 2, 'criterion': 'gini'}. Best is trial 25 with value: 0.953428640676347.\n",
            "[I 2025-07-12 18:54:18,427] Trial 27 finished with value: 0.9463505345328205 and parameters: {'max_depth': 3, 'min_samples_leaf': 2, 'criterion': 'entropy'}. Best is trial 25 with value: 0.953428640676347.\n",
            "[I 2025-07-12 18:54:18,465] Trial 28 finished with value: 0.9514918414918414 and parameters: {'max_depth': 3, 'min_samples_leaf': 2, 'criterion': 'entropy'}. Best is trial 25 with value: 0.953428640676347.\n",
            "[I 2025-07-12 18:54:18,510] Trial 29 finished with value: 0.9229906569995983 and parameters: {'max_depth': 12, 'min_samples_leaf': 2, 'criterion': 'gini'}. Best is trial 25 with value: 0.953428640676347.\n",
            "[I 2025-07-12 18:54:18,556] Trial 30 finished with value: 0.9472909338947076 and parameters: {'max_depth': 6, 'min_samples_leaf': 2, 'criterion': 'entropy'}. Best is trial 25 with value: 0.953428640676347.\n",
            "[I 2025-07-12 18:54:18,596] Trial 31 finished with value: 0.9475784941822678 and parameters: {'max_depth': 3, 'min_samples_leaf': 2, 'criterion': 'entropy'}. Best is trial 25 with value: 0.953428640676347.\n",
            "[I 2025-07-12 18:54:18,638] Trial 32 finished with value: 0.9512821978859713 and parameters: {'max_depth': 3, 'min_samples_leaf': 2, 'criterion': 'entropy'}. Best is trial 25 with value: 0.953428640676347.\n",
            "[I 2025-07-12 18:54:18,678] Trial 33 finished with value: 0.945605493143846 and parameters: {'max_depth': 3, 'min_samples_leaf': 2, 'criterion': 'entropy'}. Best is trial 25 with value: 0.953428640676347.\n",
            "[I 2025-07-12 18:54:18,718] Trial 34 finished with value: 0.9372546884971223 and parameters: {'max_depth': 12, 'min_samples_leaf': 2, 'criterion': 'entropy'}. Best is trial 25 with value: 0.953428640676347.\n",
            "[I 2025-07-12 18:54:18,770] Trial 35 finished with value: 0.9532529760035386 and parameters: {'max_depth': 3, 'min_samples_leaf': 2, 'criterion': 'entropy'}. Best is trial 25 with value: 0.953428640676347.\n",
            "[I 2025-07-12 18:54:18,827] Trial 36 finished with value: 0.9442794213607897 and parameters: {'max_depth': 3, 'min_samples_leaf': 2, 'criterion': 'entropy'}. Best is trial 25 with value: 0.953428640676347.\n",
            "[I 2025-07-12 18:54:18,866] Trial 37 finished with value: 0.9402384268422004 and parameters: {'max_depth': 3, 'min_samples_leaf': 2, 'criterion': 'gini'}. Best is trial 25 with value: 0.953428640676347.\n",
            "[I 2025-07-12 18:54:18,904] Trial 38 finished with value: 0.9442454424277283 and parameters: {'max_depth': 3, 'min_samples_leaf': 2, 'criterion': 'entropy'}. Best is trial 25 with value: 0.953428640676347.\n",
            "[I 2025-07-12 18:54:18,945] Trial 39 finished with value: 0.9368400348177749 and parameters: {'max_depth': 12, 'min_samples_leaf': 2, 'criterion': 'entropy'}. Best is trial 25 with value: 0.953428640676347.\n",
            "[I 2025-07-12 18:54:18,971] Trial 40 finished with value: 0.938837025440799 and parameters: {'max_depth': 3, 'min_samples_leaf': 2, 'criterion': 'gini'}. Best is trial 25 with value: 0.953428640676347.\n",
            "[I 2025-07-12 18:54:19,012] Trial 41 finished with value: 0.9514210255846199 and parameters: {'max_depth': 3, 'min_samples_leaf': 3, 'criterion': 'entropy'}. Best is trial 25 with value: 0.953428640676347.\n",
            "[I 2025-07-12 18:54:19,053] Trial 42 finished with value: 0.9400913845456254 and parameters: {'max_depth': 3, 'min_samples_leaf': 3, 'criterion': 'entropy'}. Best is trial 25 with value: 0.953428640676347.\n",
            "[I 2025-07-12 18:54:19,091] Trial 43 finished with value: 0.9475762712614133 and parameters: {'max_depth': 3, 'min_samples_leaf': 2, 'criterion': 'entropy'}. Best is trial 25 with value: 0.953428640676347.\n",
            "[I 2025-07-12 18:54:19,130] Trial 44 finished with value: 0.9499221471698537 and parameters: {'max_depth': 3, 'min_samples_leaf': 1, 'criterion': 'entropy'}. Best is trial 25 with value: 0.953428640676347.\n",
            "[I 2025-07-12 18:54:19,185] Trial 45 finished with value: 0.9392519319099278 and parameters: {'max_depth': 6, 'min_samples_leaf': 3, 'criterion': 'entropy'}. Best is trial 25 with value: 0.953428640676347.\n",
            "[I 2025-07-12 18:54:19,226] Trial 46 finished with value: 0.9512821978859713 and parameters: {'max_depth': 3, 'min_samples_leaf': 2, 'criterion': 'entropy'}. Best is trial 25 with value: 0.953428640676347.\n",
            "[I 2025-07-12 18:54:19,269] Trial 47 finished with value: 0.9333784072742825 and parameters: {'max_depth': 18, 'min_samples_leaf': 3, 'criterion': 'entropy'}. Best is trial 25 with value: 0.953428640676347.\n",
            "[I 2025-07-12 18:54:19,295] Trial 48 finished with value: 0.9420065669589643 and parameters: {'max_depth': 3, 'min_samples_leaf': 1, 'criterion': 'gini'}. Best is trial 25 with value: 0.953428640676347.\n",
            "[I 2025-07-12 18:54:19,332] Trial 49 finished with value: 0.9482398698436434 and parameters: {'max_depth': 3, 'min_samples_leaf': 2, 'criterion': 'entropy'}. Best is trial 25 with value: 0.953428640676347.\n"
          ]
        },
        {
          "name": "stdout",
          "output_type": "stream",
          "text": [
            "Mejores hiperparámetros usando Optuna con validación cruzada (cross_val_score):\n",
            "{'max_depth': 3, 'min_samples_leaf': 2, 'criterion': 'entropy'}\n",
            "Mejor score usando Optuna con validación cruzada:\n",
            "0.953428640676347\n"
          ]
        }
      ],
      "source": [
        "# Ejecutar la optimización de hiperparámetros\n",
        "study_cvs = optuna.create_study(direction='maximize')\n",
        "study_cvs.optimize(objective_cv_score, n_trials=50)\n",
        "\n",
        "# Imprimir los mejores hiperparámetros encontrados\n",
        "print(\"Mejores hiperparámetros usando Optuna con validación cruzada (cross_val_score):\")\n",
        "print(study_cvs.best_params)\n",
        "\n",
        "# Imprimir el mejor score\n",
        "print(\"Mejor score usando Optuna con validación cruzada:\")\n",
        "print(study_cvs.best_value)"
      ]
    },
    {
      "cell_type": "markdown",
      "metadata": {},
      "source": [
        "Como pudimos ver en la experimentación con estos mismos, los resultados son bastante parecidos a los que obtuvimos con `GridSearchCV` y `RandomizedSearchCV`. Adicionalmente, Optuna nos permite visualizar el proceso de búsqueda de hiperparámetros, lo que puede ser muy útil para entender cómo se están explorando los espacios de hiperparámetros, y tambien lo hace de manera gráfica."
      ]
    },
    {
      "cell_type": "code",
      "execution_count": 48,
      "metadata": {},
      "outputs": [
        {
          "data": {
            "application/vnd.plotly.v1+json": {
              "config": {
                "plotlyServerURL": "https://plot.ly"
              },
              "data": [
                {
                  "mode": "markers",
                  "name": "Objective Value",
                  "type": "scatter",
                  "x": [
                    0,
                    1,
                    2,
                    3,
                    4,
                    5,
                    6,
                    7,
                    8,
                    9,
                    10,
                    11,
                    12,
                    13,
                    14,
                    15,
                    16,
                    17,
                    18,
                    19,
                    20,
                    21,
                    22,
                    23,
                    24,
                    25,
                    26,
                    27,
                    28,
                    29,
                    30,
                    31,
                    32,
                    33,
                    34,
                    35,
                    36,
                    37,
                    38,
                    39,
                    40,
                    41,
                    42,
                    43,
                    44,
                    45,
                    46,
                    47,
                    48,
                    49
                  ],
                  "y": [
                    0.9316803010006893,
                    0.9457443208424946,
                    0.9430485211318516,
                    0.9473315951118393,
                    0.9438445829605747,
                    0.9320110054741528,
                    0.9474797109993724,
                    0.9314837506556192,
                    0.9320320132424316,
                    0.9368492767730265,
                    0.9457443208424946,
                    0.9319228296456019,
                    0.9442040917424448,
                    0.9413440093018342,
                    0.9294085899714121,
                    0.9514210255846199,
                    0.942237827336001,
                    0.9420126498631172,
                    0.9457680892877507,
                    0.9514210255846199,
                    0.9393785248314446,
                    0.9441828610987489,
                    0.9461196602832546,
                    0.9435978780521189,
                    0.9312152144096848,
                    0.953428640676347,
                    0.9401037467075202,
                    0.9463505345328205,
                    0.9514918414918414,
                    0.9229906569995983,
                    0.9472909338947076,
                    0.9475784941822678,
                    0.9512821978859713,
                    0.945605493143846,
                    0.9372546884971223,
                    0.9532529760035386,
                    0.9442794213607897,
                    0.9402384268422004,
                    0.9442454424277283,
                    0.9368400348177749,
                    0.938837025440799,
                    0.9514210255846199,
                    0.9400913845456254,
                    0.9475762712614133,
                    0.9499221471698537,
                    0.9392519319099278,
                    0.9512821978859713,
                    0.9333784072742825,
                    0.9420065669589643,
                    0.9482398698436434
                  ]
                },
                {
                  "mode": "lines",
                  "name": "Best Value",
                  "type": "scatter",
                  "x": [
                    0,
                    1,
                    2,
                    3,
                    4,
                    5,
                    6,
                    7,
                    8,
                    9,
                    10,
                    11,
                    12,
                    13,
                    14,
                    15,
                    16,
                    17,
                    18,
                    19,
                    20,
                    21,
                    22,
                    23,
                    24,
                    25,
                    26,
                    27,
                    28,
                    29,
                    30,
                    31,
                    32,
                    33,
                    34,
                    35,
                    36,
                    37,
                    38,
                    39,
                    40,
                    41,
                    42,
                    43,
                    44,
                    45,
                    46,
                    47,
                    48,
                    49
                  ],
                  "y": [
                    0.9316803010006893,
                    0.9457443208424946,
                    0.9457443208424946,
                    0.9473315951118393,
                    0.9473315951118393,
                    0.9473315951118393,
                    0.9474797109993724,
                    0.9474797109993724,
                    0.9474797109993724,
                    0.9474797109993724,
                    0.9474797109993724,
                    0.9474797109993724,
                    0.9474797109993724,
                    0.9474797109993724,
                    0.9474797109993724,
                    0.9514210255846199,
                    0.9514210255846199,
                    0.9514210255846199,
                    0.9514210255846199,
                    0.9514210255846199,
                    0.9514210255846199,
                    0.9514210255846199,
                    0.9514210255846199,
                    0.9514210255846199,
                    0.9514210255846199,
                    0.953428640676347,
                    0.953428640676347,
                    0.953428640676347,
                    0.953428640676347,
                    0.953428640676347,
                    0.953428640676347,
                    0.953428640676347,
                    0.953428640676347,
                    0.953428640676347,
                    0.953428640676347,
                    0.953428640676347,
                    0.953428640676347,
                    0.953428640676347,
                    0.953428640676347,
                    0.953428640676347,
                    0.953428640676347,
                    0.953428640676347,
                    0.953428640676347,
                    0.953428640676347,
                    0.953428640676347,
                    0.953428640676347,
                    0.953428640676347,
                    0.953428640676347,
                    0.953428640676347,
                    0.953428640676347
                  ]
                },
                {
                  "marker": {
                    "color": "#cccccc"
                  },
                  "mode": "markers",
                  "name": "Infeasible Trial",
                  "showlegend": false,
                  "type": "scatter",
                  "x": [],
                  "y": []
                }
              ],
              "layout": {
                "template": {
                  "data": {
                    "bar": [
                      {
                        "error_x": {
                          "color": "#2a3f5f"
                        },
                        "error_y": {
                          "color": "#2a3f5f"
                        },
                        "marker": {
                          "line": {
                            "color": "#E5ECF6",
                            "width": 0.5
                          },
                          "pattern": {
                            "fillmode": "overlay",
                            "size": 10,
                            "solidity": 0.2
                          }
                        },
                        "type": "bar"
                      }
                    ],
                    "barpolar": [
                      {
                        "marker": {
                          "line": {
                            "color": "#E5ECF6",
                            "width": 0.5
                          },
                          "pattern": {
                            "fillmode": "overlay",
                            "size": 10,
                            "solidity": 0.2
                          }
                        },
                        "type": "barpolar"
                      }
                    ],
                    "carpet": [
                      {
                        "aaxis": {
                          "endlinecolor": "#2a3f5f",
                          "gridcolor": "white",
                          "linecolor": "white",
                          "minorgridcolor": "white",
                          "startlinecolor": "#2a3f5f"
                        },
                        "baxis": {
                          "endlinecolor": "#2a3f5f",
                          "gridcolor": "white",
                          "linecolor": "white",
                          "minorgridcolor": "white",
                          "startlinecolor": "#2a3f5f"
                        },
                        "type": "carpet"
                      }
                    ],
                    "choropleth": [
                      {
                        "colorbar": {
                          "outlinewidth": 0,
                          "ticks": ""
                        },
                        "type": "choropleth"
                      }
                    ],
                    "contour": [
                      {
                        "colorbar": {
                          "outlinewidth": 0,
                          "ticks": ""
                        },
                        "colorscale": [
                          [
                            0,
                            "#0d0887"
                          ],
                          [
                            0.1111111111111111,
                            "#46039f"
                          ],
                          [
                            0.2222222222222222,
                            "#7201a8"
                          ],
                          [
                            0.3333333333333333,
                            "#9c179e"
                          ],
                          [
                            0.4444444444444444,
                            "#bd3786"
                          ],
                          [
                            0.5555555555555556,
                            "#d8576b"
                          ],
                          [
                            0.6666666666666666,
                            "#ed7953"
                          ],
                          [
                            0.7777777777777778,
                            "#fb9f3a"
                          ],
                          [
                            0.8888888888888888,
                            "#fdca26"
                          ],
                          [
                            1,
                            "#f0f921"
                          ]
                        ],
                        "type": "contour"
                      }
                    ],
                    "contourcarpet": [
                      {
                        "colorbar": {
                          "outlinewidth": 0,
                          "ticks": ""
                        },
                        "type": "contourcarpet"
                      }
                    ],
                    "heatmap": [
                      {
                        "colorbar": {
                          "outlinewidth": 0,
                          "ticks": ""
                        },
                        "colorscale": [
                          [
                            0,
                            "#0d0887"
                          ],
                          [
                            0.1111111111111111,
                            "#46039f"
                          ],
                          [
                            0.2222222222222222,
                            "#7201a8"
                          ],
                          [
                            0.3333333333333333,
                            "#9c179e"
                          ],
                          [
                            0.4444444444444444,
                            "#bd3786"
                          ],
                          [
                            0.5555555555555556,
                            "#d8576b"
                          ],
                          [
                            0.6666666666666666,
                            "#ed7953"
                          ],
                          [
                            0.7777777777777778,
                            "#fb9f3a"
                          ],
                          [
                            0.8888888888888888,
                            "#fdca26"
                          ],
                          [
                            1,
                            "#f0f921"
                          ]
                        ],
                        "type": "heatmap"
                      }
                    ],
                    "histogram": [
                      {
                        "marker": {
                          "pattern": {
                            "fillmode": "overlay",
                            "size": 10,
                            "solidity": 0.2
                          }
                        },
                        "type": "histogram"
                      }
                    ],
                    "histogram2d": [
                      {
                        "colorbar": {
                          "outlinewidth": 0,
                          "ticks": ""
                        },
                        "colorscale": [
                          [
                            0,
                            "#0d0887"
                          ],
                          [
                            0.1111111111111111,
                            "#46039f"
                          ],
                          [
                            0.2222222222222222,
                            "#7201a8"
                          ],
                          [
                            0.3333333333333333,
                            "#9c179e"
                          ],
                          [
                            0.4444444444444444,
                            "#bd3786"
                          ],
                          [
                            0.5555555555555556,
                            "#d8576b"
                          ],
                          [
                            0.6666666666666666,
                            "#ed7953"
                          ],
                          [
                            0.7777777777777778,
                            "#fb9f3a"
                          ],
                          [
                            0.8888888888888888,
                            "#fdca26"
                          ],
                          [
                            1,
                            "#f0f921"
                          ]
                        ],
                        "type": "histogram2d"
                      }
                    ],
                    "histogram2dcontour": [
                      {
                        "colorbar": {
                          "outlinewidth": 0,
                          "ticks": ""
                        },
                        "colorscale": [
                          [
                            0,
                            "#0d0887"
                          ],
                          [
                            0.1111111111111111,
                            "#46039f"
                          ],
                          [
                            0.2222222222222222,
                            "#7201a8"
                          ],
                          [
                            0.3333333333333333,
                            "#9c179e"
                          ],
                          [
                            0.4444444444444444,
                            "#bd3786"
                          ],
                          [
                            0.5555555555555556,
                            "#d8576b"
                          ],
                          [
                            0.6666666666666666,
                            "#ed7953"
                          ],
                          [
                            0.7777777777777778,
                            "#fb9f3a"
                          ],
                          [
                            0.8888888888888888,
                            "#fdca26"
                          ],
                          [
                            1,
                            "#f0f921"
                          ]
                        ],
                        "type": "histogram2dcontour"
                      }
                    ],
                    "mesh3d": [
                      {
                        "colorbar": {
                          "outlinewidth": 0,
                          "ticks": ""
                        },
                        "type": "mesh3d"
                      }
                    ],
                    "parcoords": [
                      {
                        "line": {
                          "colorbar": {
                            "outlinewidth": 0,
                            "ticks": ""
                          }
                        },
                        "type": "parcoords"
                      }
                    ],
                    "pie": [
                      {
                        "automargin": true,
                        "type": "pie"
                      }
                    ],
                    "scatter": [
                      {
                        "fillpattern": {
                          "fillmode": "overlay",
                          "size": 10,
                          "solidity": 0.2
                        },
                        "type": "scatter"
                      }
                    ],
                    "scatter3d": [
                      {
                        "line": {
                          "colorbar": {
                            "outlinewidth": 0,
                            "ticks": ""
                          }
                        },
                        "marker": {
                          "colorbar": {
                            "outlinewidth": 0,
                            "ticks": ""
                          }
                        },
                        "type": "scatter3d"
                      }
                    ],
                    "scattercarpet": [
                      {
                        "marker": {
                          "colorbar": {
                            "outlinewidth": 0,
                            "ticks": ""
                          }
                        },
                        "type": "scattercarpet"
                      }
                    ],
                    "scattergeo": [
                      {
                        "marker": {
                          "colorbar": {
                            "outlinewidth": 0,
                            "ticks": ""
                          }
                        },
                        "type": "scattergeo"
                      }
                    ],
                    "scattergl": [
                      {
                        "marker": {
                          "colorbar": {
                            "outlinewidth": 0,
                            "ticks": ""
                          }
                        },
                        "type": "scattergl"
                      }
                    ],
                    "scattermap": [
                      {
                        "marker": {
                          "colorbar": {
                            "outlinewidth": 0,
                            "ticks": ""
                          }
                        },
                        "type": "scattermap"
                      }
                    ],
                    "scattermapbox": [
                      {
                        "marker": {
                          "colorbar": {
                            "outlinewidth": 0,
                            "ticks": ""
                          }
                        },
                        "type": "scattermapbox"
                      }
                    ],
                    "scatterpolar": [
                      {
                        "marker": {
                          "colorbar": {
                            "outlinewidth": 0,
                            "ticks": ""
                          }
                        },
                        "type": "scatterpolar"
                      }
                    ],
                    "scatterpolargl": [
                      {
                        "marker": {
                          "colorbar": {
                            "outlinewidth": 0,
                            "ticks": ""
                          }
                        },
                        "type": "scatterpolargl"
                      }
                    ],
                    "scatterternary": [
                      {
                        "marker": {
                          "colorbar": {
                            "outlinewidth": 0,
                            "ticks": ""
                          }
                        },
                        "type": "scatterternary"
                      }
                    ],
                    "surface": [
                      {
                        "colorbar": {
                          "outlinewidth": 0,
                          "ticks": ""
                        },
                        "colorscale": [
                          [
                            0,
                            "#0d0887"
                          ],
                          [
                            0.1111111111111111,
                            "#46039f"
                          ],
                          [
                            0.2222222222222222,
                            "#7201a8"
                          ],
                          [
                            0.3333333333333333,
                            "#9c179e"
                          ],
                          [
                            0.4444444444444444,
                            "#bd3786"
                          ],
                          [
                            0.5555555555555556,
                            "#d8576b"
                          ],
                          [
                            0.6666666666666666,
                            "#ed7953"
                          ],
                          [
                            0.7777777777777778,
                            "#fb9f3a"
                          ],
                          [
                            0.8888888888888888,
                            "#fdca26"
                          ],
                          [
                            1,
                            "#f0f921"
                          ]
                        ],
                        "type": "surface"
                      }
                    ],
                    "table": [
                      {
                        "cells": {
                          "fill": {
                            "color": "#EBF0F8"
                          },
                          "line": {
                            "color": "white"
                          }
                        },
                        "header": {
                          "fill": {
                            "color": "#C8D4E3"
                          },
                          "line": {
                            "color": "white"
                          }
                        },
                        "type": "table"
                      }
                    ]
                  },
                  "layout": {
                    "annotationdefaults": {
                      "arrowcolor": "#2a3f5f",
                      "arrowhead": 0,
                      "arrowwidth": 1
                    },
                    "autotypenumbers": "strict",
                    "coloraxis": {
                      "colorbar": {
                        "outlinewidth": 0,
                        "ticks": ""
                      }
                    },
                    "colorscale": {
                      "diverging": [
                        [
                          0,
                          "#8e0152"
                        ],
                        [
                          0.1,
                          "#c51b7d"
                        ],
                        [
                          0.2,
                          "#de77ae"
                        ],
                        [
                          0.3,
                          "#f1b6da"
                        ],
                        [
                          0.4,
                          "#fde0ef"
                        ],
                        [
                          0.5,
                          "#f7f7f7"
                        ],
                        [
                          0.6,
                          "#e6f5d0"
                        ],
                        [
                          0.7,
                          "#b8e186"
                        ],
                        [
                          0.8,
                          "#7fbc41"
                        ],
                        [
                          0.9,
                          "#4d9221"
                        ],
                        [
                          1,
                          "#276419"
                        ]
                      ],
                      "sequential": [
                        [
                          0,
                          "#0d0887"
                        ],
                        [
                          0.1111111111111111,
                          "#46039f"
                        ],
                        [
                          0.2222222222222222,
                          "#7201a8"
                        ],
                        [
                          0.3333333333333333,
                          "#9c179e"
                        ],
                        [
                          0.4444444444444444,
                          "#bd3786"
                        ],
                        [
                          0.5555555555555556,
                          "#d8576b"
                        ],
                        [
                          0.6666666666666666,
                          "#ed7953"
                        ],
                        [
                          0.7777777777777778,
                          "#fb9f3a"
                        ],
                        [
                          0.8888888888888888,
                          "#fdca26"
                        ],
                        [
                          1,
                          "#f0f921"
                        ]
                      ],
                      "sequentialminus": [
                        [
                          0,
                          "#0d0887"
                        ],
                        [
                          0.1111111111111111,
                          "#46039f"
                        ],
                        [
                          0.2222222222222222,
                          "#7201a8"
                        ],
                        [
                          0.3333333333333333,
                          "#9c179e"
                        ],
                        [
                          0.4444444444444444,
                          "#bd3786"
                        ],
                        [
                          0.5555555555555556,
                          "#d8576b"
                        ],
                        [
                          0.6666666666666666,
                          "#ed7953"
                        ],
                        [
                          0.7777777777777778,
                          "#fb9f3a"
                        ],
                        [
                          0.8888888888888888,
                          "#fdca26"
                        ],
                        [
                          1,
                          "#f0f921"
                        ]
                      ]
                    },
                    "colorway": [
                      "#636efa",
                      "#EF553B",
                      "#00cc96",
                      "#ab63fa",
                      "#FFA15A",
                      "#19d3f3",
                      "#FF6692",
                      "#B6E880",
                      "#FF97FF",
                      "#FECB52"
                    ],
                    "font": {
                      "color": "#2a3f5f"
                    },
                    "geo": {
                      "bgcolor": "white",
                      "lakecolor": "white",
                      "landcolor": "#E5ECF6",
                      "showlakes": true,
                      "showland": true,
                      "subunitcolor": "white"
                    },
                    "hoverlabel": {
                      "align": "left"
                    },
                    "hovermode": "closest",
                    "mapbox": {
                      "style": "light"
                    },
                    "paper_bgcolor": "white",
                    "plot_bgcolor": "#E5ECF6",
                    "polar": {
                      "angularaxis": {
                        "gridcolor": "white",
                        "linecolor": "white",
                        "ticks": ""
                      },
                      "bgcolor": "#E5ECF6",
                      "radialaxis": {
                        "gridcolor": "white",
                        "linecolor": "white",
                        "ticks": ""
                      }
                    },
                    "scene": {
                      "xaxis": {
                        "backgroundcolor": "#E5ECF6",
                        "gridcolor": "white",
                        "gridwidth": 2,
                        "linecolor": "white",
                        "showbackground": true,
                        "ticks": "",
                        "zerolinecolor": "white"
                      },
                      "yaxis": {
                        "backgroundcolor": "#E5ECF6",
                        "gridcolor": "white",
                        "gridwidth": 2,
                        "linecolor": "white",
                        "showbackground": true,
                        "ticks": "",
                        "zerolinecolor": "white"
                      },
                      "zaxis": {
                        "backgroundcolor": "#E5ECF6",
                        "gridcolor": "white",
                        "gridwidth": 2,
                        "linecolor": "white",
                        "showbackground": true,
                        "ticks": "",
                        "zerolinecolor": "white"
                      }
                    },
                    "shapedefaults": {
                      "line": {
                        "color": "#2a3f5f"
                      }
                    },
                    "ternary": {
                      "aaxis": {
                        "gridcolor": "white",
                        "linecolor": "white",
                        "ticks": ""
                      },
                      "baxis": {
                        "gridcolor": "white",
                        "linecolor": "white",
                        "ticks": ""
                      },
                      "bgcolor": "#E5ECF6",
                      "caxis": {
                        "gridcolor": "white",
                        "linecolor": "white",
                        "ticks": ""
                      }
                    },
                    "title": {
                      "x": 0.05
                    },
                    "xaxis": {
                      "automargin": true,
                      "gridcolor": "white",
                      "linecolor": "white",
                      "ticks": "",
                      "title": {
                        "standoff": 15
                      },
                      "zerolinecolor": "white",
                      "zerolinewidth": 2
                    },
                    "yaxis": {
                      "automargin": true,
                      "gridcolor": "white",
                      "linecolor": "white",
                      "ticks": "",
                      "title": {
                        "standoff": 15
                      },
                      "zerolinecolor": "white",
                      "zerolinewidth": 2
                    }
                  }
                },
                "title": {
                  "text": "Optimization History Plot"
                },
                "xaxis": {
                  "title": {
                    "text": "Trial"
                  }
                },
                "yaxis": {
                  "title": {
                    "text": "Objective Value"
                  }
                }
              }
            }
          },
          "metadata": {},
          "output_type": "display_data"
        }
      ],
      "source": [
        "# Visualizar el estudio\n",
        "optuna.visualization.plot_optimization_history(study_cvs)"
      ]
    },
    {
      "cell_type": "markdown",
      "metadata": {},
      "source": [
        "Así, podemos ver como van mejorandos los resultados a medida que se exploran más combinaciones de hiperparámetros, en donde podemos notar que para este caso, para en el intento 25 aproximadamente, se logra el mejor resultado."
      ]
    }
  ],
  "metadata": {
    "colab": {
      "provenance": []
    },
    "kernelspec": {
      "display_name": "Python 3",
      "name": "python3"
    },
    "language_info": {
      "codemirror_mode": {
        "name": "ipython",
        "version": 3
      },
      "file_extension": ".py",
      "mimetype": "text/x-python",
      "name": "python",
      "nbconvert_exporter": "python",
      "pygments_lexer": "ipython3",
      "version": "3.12.9"
    }
  },
  "nbformat": 4,
  "nbformat_minor": 0
}
